{
 "cells": [
  {
   "cell_type": "code",
   "execution_count": 1,
   "metadata": {},
   "outputs": [],
   "source": [
    "%matplotlib inline"
   ]
  },
  {
   "cell_type": "markdown",
   "metadata": {},
   "source": [
    "# 이번에는 CIFAR10을 학습해봅시다"
   ]
  },
  {
   "cell_type": "code",
   "execution_count": 2,
   "metadata": {},
   "outputs": [],
   "source": [
    "import torch\n",
    "import torchvision\n",
    "import torchvision.transforms as transforms\n",
    "from tqdm import tqdm"
   ]
  },
  {
   "cell_type": "markdown",
   "metadata": {},
   "source": [
    "# transform\n",
    "\n",
    "## PIL 이미지는 [0~1] 이므로 image mean 값으로 바꾸고 싶어요!"
   ]
  },
  {
   "cell_type": "code",
   "execution_count": 3,
   "metadata": {},
   "outputs": [
    {
     "name": "stderr",
     "output_type": "stream",
     "text": [
      "\r",
      "0it [00:00, ?it/s]"
     ]
    },
    {
     "name": "stdout",
     "output_type": "stream",
     "text": [
      "Downloading https://www.cs.toronto.edu/~kriz/cifar-10-python.tar.gz to ./data/cifar-10-python.tar.gz\n"
     ]
    },
    {
     "name": "stderr",
     "output_type": "stream",
     "text": [
      "100%|█████████▉| 170156032/170498071 [03:42<00:00, 2098476.34it/s]"
     ]
    },
    {
     "name": "stdout",
     "output_type": "stream",
     "text": [
      "Files already downloaded and verified\n"
     ]
    }
   ],
   "source": [
    "transform = transforms.Compose(\n",
    "    [transforms.ToTensor(),\n",
    "     transforms.Normalize(mean=[0.485, 0.456, 0.406],std=[0.229, 0.224, 0.225])])\n",
    "\n",
    "trainset = torchvision.datasets.CIFAR10(root='./data', train=True,\n",
    "                                        download=True, transform=transform)\n",
    "trainloader = torch.utils.data.DataLoader(trainset, batch_size=4,\n",
    "                                          shuffle=True, num_workers=2)\n",
    "\n",
    "testset = torchvision.datasets.CIFAR10(root='./data', train=False,\n",
    "                                       download=True, transform=transform)\n",
    "testloader = torch.utils.data.DataLoader(testset, batch_size=4,\n",
    "                                         shuffle=False, num_workers=2)\n",
    "\n",
    "classes = ('plane', 'car', 'bird', 'cat',\n",
    "           'deer', 'dog', 'frog', 'horse', 'ship', 'truck')"
   ]
  },
  {
   "cell_type": "markdown",
   "metadata": {},
   "source": [
    "# Trainset을 봐봅시다."
   ]
  },
  {
   "cell_type": "code",
   "execution_count": 4,
   "metadata": {},
   "outputs": [
    {
     "name": "stderr",
     "output_type": "stream",
     "text": [
      "Clipping input data to the valid range for imshow with RGB data ([0..1] for floats or [0..255] for integers).\n"
     ]
    },
    {
     "name": "stdout",
     "output_type": "stream",
     "text": [
      "truck truck   dog  ship\n"
     ]
    },
    {
     "data": {
      "image/png": "[encoded data removed]",
      "text/plain": [
       "<Figure size 432x288 with 1 Axes>"
      ]
     },
     "metadata": {
      "needs_background": "light"
     },
     "output_type": "display_data"
    }
   ],
   "source": [
    "import matplotlib.pyplot as plt\n",
    "import numpy as np\n",
    "\n",
    "# functions to show an image\n",
    "\n",
    "\n",
    "def imshow(img):\n",
    "    img = img / 2 + 0.5     # unnormalize\n",
    "    npimg = img.numpy()\n",
    "    plt.imshow(np.transpose(npimg, (1, 2, 0)))\n",
    "\n",
    "\n",
    "# get some random training images\n",
    "dataiter = iter(trainloader)\n",
    "images, labels = dataiter.next()\n",
    "\n",
    "# show images\n",
    "imshow(torchvision.utils.make_grid(images))\n",
    "# print labels\n",
    "print(' '.join('%5s' % classes[labels[j]] for j in range(4)))"
   ]
  },
  {
   "cell_type": "markdown",
   "metadata": {},
   "source": [
    "# 방금 MNIST와 같은 네트워크지만, 입력이 3 channel RGB, 입력 layer만 다릅니다."
   ]
  },
  {
   "cell_type": "code",
   "execution_count": 5,
   "metadata": {},
   "outputs": [],
   "source": [
    "import torch.nn as nn\n",
    "import torch.nn.functional as F\n",
    "\n",
    "\n",
    "class Net(nn.Module):\n",
    "    def __init__(self):\n",
    "        super(Net, self).__init__()\n",
    "        self.conv1 = nn.Conv2d(3, 6, 5)\n",
    "        self.pool = nn.MaxPool2d(2, 2)\n",
    "        self.conv2 = nn.Conv2d(6, 16, 5)\n",
    "        self.fc1 = nn.Linear(16 * 5 * 5, 120)\n",
    "        self.fc2 = nn.Linear(120, 84)\n",
    "        self.fc3 = nn.Linear(84, 10)\n",
    "\n",
    "    def forward(self, x):\n",
    "        x = self.pool(F.relu(self.conv1(x)))\n",
    "        x = self.pool(F.relu(self.conv2(x)))\n",
    "        x = x.view(-1, 16 * 5 * 5)\n",
    "        x = F.relu(self.fc1(x))\n",
    "        x = F.relu(self.fc2(x))\n",
    "        x = self.fc3(x)\n",
    "        return x\n",
    "\n",
    "\n",
    "net = Net()"
   ]
  },
  {
   "cell_type": "markdown",
   "metadata": {},
   "source": [
    "# loss function (손실함수)와 optimizer 를 정의"
   ]
  },
  {
   "cell_type": "code",
   "execution_count": 6,
   "metadata": {},
   "outputs": [],
   "source": [
    "import torch.optim as optim\n",
    "\n",
    "criterion = nn.CrossEntropyLoss()\n",
    "optimizer = optim.SGD(net.parameters(), lr=0.001, momentum=0.9)"
   ]
  },
  {
   "cell_type": "markdown",
   "metadata": {},
   "source": [
    "# 네트워크를 학습합시다!"
   ]
  },
  {
   "cell_type": "code",
   "execution_count": 7,
   "metadata": {},
   "outputs": [
    {
     "name": "stderr",
     "output_type": "stream",
     "text": [
      "\r",
      "170500096it [04:00, 2098476.34it/s]                               "
     ]
    },
    {
     "name": "stdout",
     "output_type": "stream",
     "text": [
      "[1,  2000] loss: 2.057\n",
      "[1,  4000] loss: 1.734\n",
      "[1,  6000] loss: 1.629\n",
      "[1,  8000] loss: 1.553\n",
      "[1, 10000] loss: 1.491\n",
      "[1, 12000] loss: 1.442\n",
      "[2,  2000] loss: 1.374\n",
      "[2,  4000] loss: 1.352\n",
      "[2,  6000] loss: 1.332\n",
      "[2,  8000] loss: 1.340\n",
      "[2, 10000] loss: 1.308\n",
      "[2, 12000] loss: 1.309\n",
      "Finished Training\n"
     ]
    }
   ],
   "source": [
    "for epoch in range(2):  # loop over the dataset multiple times\n",
    "\n",
    "    running_loss = 0.0\n",
    "    for i, data in enumerate(trainloader, 0):\n",
    "        # get the inputs\n",
    "        inputs, labels = data\n",
    "\n",
    "        # zero the parameter gradients\n",
    "        optimizer.zero_grad()\n",
    "\n",
    "        # forward + backward + optimize\n",
    "        outputs = net(inputs)\n",
    "        loss = criterion(outputs, labels)\n",
    "        loss.backward()\n",
    "        optimizer.step()\n",
    "\n",
    "        # print statistics\n",
    "        running_loss += loss.item()\n",
    "        if i % 2000 == 1999:    # print every 2000 mini-batches\n",
    "            print('[%d, %5d] loss: %.3f' %\n",
    "                  (epoch + 1, i + 1, running_loss / 2000))\n",
    "            running_loss = 0.0\n",
    "\n",
    "print('Finished Training')"
   ]
  },
  {
   "cell_type": "markdown",
   "metadata": {},
   "source": [
    "# trainset의 크기는 12000, 그리고 저희는 epoch 2번,\n",
    "\n",
    "## 즉 데이터셋을 총 2번 학습시켰습니다.\n",
    "\n",
    "## 이제 테스트셋을 봅시다."
   ]
  },
  {
   "cell_type": "code",
   "execution_count": 8,
   "metadata": {},
   "outputs": [
    {
     "name": "stderr",
     "output_type": "stream",
     "text": [
      "Clipping input data to the valid range for imshow with RGB data ([0..1] for floats or [0..255] for integers).\n"
     ]
    },
    {
     "name": "stdout",
     "output_type": "stream",
     "text": [
      "GroundTruth:    cat  ship  ship plane\n"
     ]
    },
    {
     "data": {
      "image/png": "[encoded data removed]",
      "text/plain": [
       "<Figure size 432x288 with 1 Axes>"
      ]
     },
     "metadata": {
      "needs_background": "light"
     },
     "output_type": "display_data"
    }
   ],
   "source": [
    "dataiter = iter(testloader)\n",
    "images, labels = dataiter.next()\n",
    "\n",
    "# print images\n",
    "imshow(torchvision.utils.make_grid(images))\n",
    "print('GroundTruth: ', ' '.join('%5s' % classes[labels[j]] for j in range(4)))"
   ]
  },
  {
   "cell_type": "markdown",
   "metadata": {},
   "source": [
    "## 네트워크는 뭐라고 생각할까요?"
   ]
  },
  {
   "cell_type": "code",
   "execution_count": 9,
   "metadata": {},
   "outputs": [],
   "source": [
    "outputs = net(images)"
   ]
  },
  {
   "cell_type": "markdown",
   "metadata": {},
   "source": [
    "## 네트워크는 10 dim vector을 출력하므로, 우리가 알아보기 쉽게 최대값을 봅시다."
   ]
  },
  {
   "cell_type": "code",
   "execution_count": 10,
   "metadata": {},
   "outputs": [
    {
     "name": "stdout",
     "output_type": "stream",
     "text": [
      "Predicted:    cat   car   car plane\n"
     ]
    }
   ],
   "source": [
    "_, predicted = torch.max(outputs, 1)\n",
    "\n",
    "print('Predicted: ', ' '.join('%5s' % classes[predicted[j]]\n",
    "                              for j in range(4)))"
   ]
  },
  {
   "cell_type": "markdown",
   "metadata": {},
   "source": [
    "## 꽤 잘했네요! 실제 성능은 얼마나 될까요?"
   ]
  },
  {
   "cell_type": "code",
   "execution_count": 11,
   "metadata": {},
   "outputs": [
    {
     "name": "stderr",
     "output_type": "stream",
     "text": [
      "\n",
      "  0%|          | 0/2500 [00:00<?, ?it/s]\u001b[A\n",
      "  0%|          | 7/2500 [00:00<00:36, 68.65it/s]\u001b[A\n",
      "  1%|          | 22/2500 [00:00<00:30, 81.82it/s]\u001b[A\n",
      "  1%|▏         | 35/2500 [00:00<00:26, 91.45it/s]\u001b[A\n",
      "  2%|▏         | 50/2500 [00:00<00:23, 102.64it/s]\u001b[A\n",
      "  3%|▎         | 65/2500 [00:00<00:21, 111.93it/s]\u001b[A\n",
      "  3%|▎         | 79/2500 [00:00<00:20, 118.59it/s]\u001b[A\n",
      "  4%|▍         | 95/2500 [00:00<00:18, 127.34it/s]\u001b[A\n",
      "  4%|▍         | 111/2500 [00:00<00:17, 134.85it/s]\u001b[A\n",
      "  5%|▌         | 126/2500 [00:00<00:17, 136.70it/s]\u001b[A\n",
      "  6%|▌         | 140/2500 [00:01<00:17, 137.10it/s]\u001b[A\n",
      "  6%|▋         | 157/2500 [00:01<00:16, 145.10it/s]\u001b[A\n",
      "  7%|▋         | 172/2500 [00:01<00:16, 140.76it/s]\u001b[A\n",
      "  8%|▊         | 189/2500 [00:01<00:15, 147.39it/s]\u001b[A\n",
      "  8%|▊         | 204/2500 [00:01<00:15, 147.99it/s]\u001b[A\n",
      "  9%|▉         | 219/2500 [00:01<00:15, 146.30it/s]\u001b[A\n",
      "  9%|▉         | 234/2500 [00:01<00:16, 139.82it/s]\u001b[A\n",
      " 10%|█         | 251/2500 [00:01<00:15, 146.66it/s]\u001b[A\n",
      " 11%|█         | 267/2500 [00:01<00:14, 149.74it/s]\u001b[A\n",
      " 11%|█▏        | 283/2500 [00:01<00:14, 149.76it/s]\u001b[A\n",
      " 12%|█▏        | 299/2500 [00:02<00:14, 150.15it/s]\u001b[A\n",
      " 13%|█▎        | 315/2500 [00:02<00:14, 149.07it/s]\u001b[A\n",
      " 13%|█▎        | 332/2500 [00:02<00:14, 152.94it/s]\u001b[A\n",
      " 14%|█▍        | 349/2500 [00:02<00:13, 156.18it/s]\u001b[A\n",
      " 15%|█▍        | 365/2500 [00:02<00:14, 149.48it/s]\u001b[A\n",
      " 15%|█▌        | 382/2500 [00:02<00:13, 153.21it/s]\u001b[A\n",
      " 16%|█▌        | 398/2500 [00:02<00:13, 154.80it/s]\u001b[A\n",
      " 17%|█▋        | 414/2500 [00:02<00:13, 152.60it/s]\u001b[A\n",
      " 17%|█▋        | 431/2500 [00:02<00:13, 156.56it/s]\u001b[A\n",
      " 18%|█▊        | 447/2500 [00:03<00:13, 154.88it/s]\u001b[A\n",
      " 19%|█▊        | 463/2500 [00:03<00:13, 155.00it/s]\u001b[A\n",
      " 19%|█▉        | 479/2500 [00:03<00:13, 153.20it/s]\u001b[A\n",
      " 20%|█▉        | 495/2500 [00:03<00:13, 144.78it/s]\u001b[A\n",
      " 20%|██        | 510/2500 [00:03<00:14, 140.21it/s]\u001b[A\n",
      " 21%|██        | 525/2500 [00:03<00:14, 133.47it/s]\u001b[A\n",
      " 22%|██▏       | 540/2500 [00:03<00:14, 136.97it/s]\u001b[A\n",
      " 22%|██▏       | 557/2500 [00:03<00:13, 144.04it/s]\u001b[A\n",
      " 23%|██▎       | 572/2500 [00:03<00:13, 142.50it/s]\u001b[A\n",
      " 24%|██▎       | 588/2500 [00:04<00:12, 147.12it/s]\u001b[A\n",
      " 24%|██▍       | 603/2500 [00:04<00:12, 146.69it/s]\u001b[A\n",
      " 25%|██▍       | 620/2500 [00:04<00:12, 151.20it/s]\u001b[A\n",
      " 25%|██▌       | 636/2500 [00:04<00:12, 149.15it/s]\u001b[A\n",
      " 26%|██▌       | 652/2500 [00:04<00:12, 151.64it/s]\u001b[A\n",
      " 27%|██▋       | 668/2500 [00:04<00:11, 153.27it/s]\u001b[A\n",
      " 27%|██▋       | 684/2500 [00:04<00:11, 152.18it/s]\u001b[A\n",
      " 28%|██▊       | 700/2500 [00:04<00:11, 154.29it/s]\u001b[A\n",
      " 29%|██▊       | 716/2500 [00:04<00:12, 145.38it/s]\u001b[A\n",
      " 29%|██▉       | 732/2500 [00:04<00:11, 147.71it/s]\u001b[A\n",
      " 30%|██▉       | 747/2500 [00:05<00:12, 140.53it/s]\u001b[A\n",
      " 30%|███       | 762/2500 [00:05<00:12, 142.06it/s]\u001b[A\n",
      " 31%|███       | 777/2500 [00:05<00:12, 139.22it/s]\u001b[A\n",
      " 32%|███▏      | 792/2500 [00:05<00:12, 142.05it/s]\u001b[A\n",
      " 32%|███▏      | 807/2500 [00:05<00:12, 140.18it/s]\u001b[A\n",
      " 33%|███▎      | 822/2500 [00:05<00:12, 137.57it/s]\u001b[A\n",
      " 33%|███▎      | 837/2500 [00:05<00:11, 141.03it/s]\u001b[A\n",
      " 34%|███▍      | 852/2500 [00:05<00:11, 143.17it/s]\u001b[A\n",
      " 35%|███▍      | 869/2500 [00:05<00:10, 148.46it/s]\u001b[A\n",
      " 35%|███▌      | 886/2500 [00:06<00:10, 152.89it/s]\u001b[A\n",
      " 36%|███▌      | 902/2500 [00:06<00:10, 153.96it/s]\u001b[A\n",
      " 37%|███▋      | 918/2500 [00:06<00:10, 150.17it/s]\u001b[A\n",
      " 37%|███▋      | 934/2500 [00:06<00:10, 150.53it/s]\u001b[A\n",
      " 38%|███▊      | 950/2500 [00:06<00:10, 147.02it/s]\u001b[A\n",
      " 39%|███▊      | 966/2500 [00:06<00:10, 149.91it/s]\u001b[A\n",
      " 39%|███▉      | 982/2500 [00:06<00:10, 149.61it/s]\u001b[A\n",
      " 40%|███▉      | 998/2500 [00:06<00:09, 151.06it/s]\u001b[A\n",
      " 41%|████      | 1014/2500 [00:06<00:10, 146.40it/s]\u001b[A\n",
      " 41%|████      | 1030/2500 [00:07<00:09, 149.13it/s]\u001b[A\n",
      " 42%|████▏     | 1045/2500 [00:07<00:09, 148.19it/s]\u001b[A\n",
      " 42%|████▏     | 1060/2500 [00:07<00:10, 143.26it/s]\u001b[A\n",
      " 43%|████▎     | 1075/2500 [00:07<00:10, 139.24it/s]\u001b[A\n",
      " 44%|████▎     | 1090/2500 [00:07<00:10, 140.86it/s]\u001b[A\n",
      " 44%|████▍     | 1105/2500 [00:07<00:10, 138.03it/s]\u001b[A\n",
      " 45%|████▍     | 1120/2500 [00:07<00:09, 139.55it/s]\u001b[A\n",
      " 45%|████▌     | 1134/2500 [00:07<00:09, 139.16it/s]\u001b[A\n",
      " 46%|████▌     | 1148/2500 [00:07<00:09, 136.41it/s]\u001b[A\n",
      " 46%|████▋     | 1162/2500 [00:08<00:10, 133.13it/s]\u001b[A\n",
      " 47%|████▋     | 1178/2500 [00:08<00:09, 138.93it/s]\u001b[A\n",
      " 48%|████▊     | 1192/2500 [00:08<00:09, 137.18it/s]\u001b[A\n",
      " 48%|████▊     | 1206/2500 [00:08<00:09, 136.18it/s]\u001b[A\n",
      " 49%|████▉     | 1220/2500 [00:08<00:09, 133.77it/s]\u001b[A\n",
      " 49%|████▉     | 1235/2500 [00:08<00:09, 136.40it/s]\u001b[A\n",
      " 50%|████▉     | 1249/2500 [00:08<00:09, 137.22it/s]\u001b[A\n",
      " 51%|█████     | 1263/2500 [00:08<00:09, 136.60it/s]\u001b[A\n",
      " 51%|█████     | 1277/2500 [00:08<00:08, 136.12it/s]\u001b[A\n",
      " 52%|█████▏    | 1293/2500 [00:08<00:08, 142.00it/s]\u001b[A\n",
      " 52%|█████▏    | 1308/2500 [00:09<00:08, 143.86it/s]\u001b[A\n",
      " 53%|█████▎    | 1323/2500 [00:09<00:08, 144.62it/s]\u001b[A\n",
      " 54%|█████▎    | 1338/2500 [00:09<00:08, 143.58it/s]\u001b[A\n",
      " 54%|█████▍    | 1353/2500 [00:09<00:08, 139.38it/s]\u001b[A\n",
      " 55%|█████▍    | 1367/2500 [00:09<00:08, 137.02it/s]\u001b[A\n",
      " 55%|█████▌    | 1381/2500 [00:09<00:08, 131.86it/s]\u001b[A\n",
      " 56%|█████▌    | 1395/2500 [00:09<00:08, 128.32it/s]\u001b[A\n",
      " 56%|█████▋    | 1408/2500 [00:09<00:08, 127.22it/s]\u001b[A\n",
      " 57%|█████▋    | 1422/2500 [00:09<00:08, 130.19it/s]\u001b[A\n",
      " 57%|█████▋    | 1437/2500 [00:10<00:07, 133.66it/s]\u001b[A\n",
      " 58%|█████▊    | 1451/2500 [00:10<00:08, 130.79it/s]\u001b[A\n",
      " 59%|█████▊    | 1465/2500 [00:10<00:07, 131.29it/s]\u001b[A\n",
      " 59%|█████▉    | 1481/2500 [00:10<00:07, 138.08it/s]\u001b[A\n",
      " 60%|█████▉    | 1495/2500 [00:10<00:07, 132.79it/s]\u001b[A\n",
      " 60%|██████    | 1509/2500 [00:10<00:07, 132.25it/s]\u001b[A\n",
      " 61%|██████    | 1524/2500 [00:10<00:07, 136.08it/s]\u001b[A\n",
      " 62%|██████▏   | 1538/2500 [00:10<00:07, 135.46it/s]\u001b[A\n",
      " 62%|██████▏   | 1552/2500 [00:10<00:06, 135.67it/s]\u001b[A\n",
      " 63%|██████▎   | 1566/2500 [00:10<00:06, 133.87it/s]\u001b[A\n",
      " 63%|██████▎   | 1580/2500 [00:11<00:06, 133.51it/s]\u001b[A\n",
      " 64%|██████▍   | 1594/2500 [00:11<00:06, 131.94it/s]\u001b[A\n",
      " 64%|██████▍   | 1608/2500 [00:11<00:06, 133.89it/s]\u001b[A\n",
      " 65%|██████▍   | 1622/2500 [00:11<00:06, 132.04it/s]\u001b[A\n",
      " 65%|██████▌   | 1636/2500 [00:11<00:06, 134.25it/s]\u001b[A\n",
      " 66%|██████▌   | 1651/2500 [00:11<00:06, 136.41it/s]\u001b[A\n",
      " 67%|██████▋   | 1665/2500 [00:11<00:06, 135.22it/s]\u001b[A\n",
      " 67%|██████▋   | 1682/2500 [00:11<00:05, 142.82it/s]\u001b[A\n",
      " 68%|██████▊   | 1699/2500 [00:11<00:05, 148.18it/s]\u001b[A\n",
      " 69%|██████▊   | 1714/2500 [00:12<00:05, 147.47it/s]\u001b[A\n",
      " 69%|██████▉   | 1731/2500 [00:12<00:05, 152.32it/s]\u001b[A\n",
      " 70%|██████▉   | 1747/2500 [00:12<00:05, 144.40it/s]\u001b[A\n",
      " 71%|███████   | 1763/2500 [00:12<00:04, 147.52it/s]\u001b[A\n",
      " 71%|███████   | 1778/2500 [00:12<00:04, 147.98it/s]\u001b[A\n",
      " 72%|███████▏  | 1793/2500 [00:12<00:04, 144.83it/s]\u001b[A\n",
      " 72%|███████▏  | 1808/2500 [00:12<00:04, 141.35it/s]\u001b[A\n",
      " 73%|███████▎  | 1823/2500 [00:12<00:04, 141.18it/s]\u001b[A\n",
      " 74%|███████▎  | 1839/2500 [00:12<00:04, 144.55it/s]\u001b[A\n",
      " 74%|███████▍  | 1854/2500 [00:12<00:04, 143.73it/s]\u001b[A\n",
      " 75%|███████▍  | 1871/2500 [00:13<00:04, 150.25it/s]\u001b[A\n",
      " 75%|███████▌  | 1887/2500 [00:13<00:04, 150.85it/s]\u001b[A\n",
      " 76%|███████▌  | 1903/2500 [00:13<00:04, 145.60it/s]\u001b[A\n",
      " 77%|███████▋  | 1918/2500 [00:13<00:03, 145.53it/s]\u001b[A\n",
      " 77%|███████▋  | 1934/2500 [00:13<00:03, 149.12it/s]\u001b[A\n",
      " 78%|███████▊  | 1949/2500 [00:13<00:03, 144.64it/s]\u001b[A\n",
      " 79%|███████▊  | 1964/2500 [00:13<00:03, 143.18it/s]\u001b[A\n",
      " 79%|███████▉  | 1981/2500 [00:13<00:03, 148.80it/s]\u001b[A\n",
      " 80%|███████▉  | 1998/2500 [00:13<00:03, 153.02it/s]\u001b[A\n",
      " 81%|████████  | 2014/2500 [00:14<00:03, 151.60it/s]\u001b[A\n",
      " 81%|████████  | 2030/2500 [00:14<00:03, 149.44it/s]\u001b[A\n",
      " 82%|████████▏ | 2046/2500 [00:14<00:03, 145.14it/s]\u001b[A\n",
      " 83%|████████▎ | 2063/2500 [00:14<00:02, 149.96it/s]\u001b[A\n",
      " 83%|████████▎ | 2079/2500 [00:14<00:02, 144.65it/s]\u001b[A\n",
      " 84%|████████▍ | 2094/2500 [00:14<00:02, 142.39it/s]\u001b[A\n",
      " 84%|████████▍ | 2109/2500 [00:14<00:02, 140.68it/s]\u001b[A\n",
      " 85%|████████▌ | 2126/2500 [00:14<00:02, 146.89it/s]\u001b[A\n",
      " 86%|████████▌ | 2141/2500 [00:14<00:02, 144.28it/s]\u001b[A\n",
      " 86%|████████▌ | 2156/2500 [00:15<00:02, 144.97it/s]\u001b[A\n",
      " 87%|████████▋ | 2171/2500 [00:15<00:02, 141.72it/s]\u001b[A\n",
      " 87%|████████▋ | 2187/2500 [00:15<00:02, 145.84it/s]\u001b[A\n",
      " 88%|████████▊ | 2202/2500 [00:15<00:02, 145.06it/s]\u001b[A\n",
      " 89%|████████▊ | 2217/2500 [00:15<00:01, 146.33it/s]\u001b[A\n",
      " 89%|████████▉ | 2234/2500 [00:15<00:01, 150.71it/s]\u001b[A\n"
     ]
    },
    {
     "name": "stderr",
     "output_type": "stream",
     "text": [
      " 90%|█████████ | 2250/2500 [00:15<00:01, 143.43it/s]\u001b[A\n",
      " 91%|█████████ | 2265/2500 [00:15<00:01, 143.25it/s]\u001b[A\n",
      " 91%|█████████ | 2280/2500 [00:15<00:01, 140.67it/s]\u001b[A\n",
      " 92%|█████████▏| 2295/2500 [00:16<00:01, 141.41it/s]\u001b[A\n",
      " 92%|█████████▏| 2311/2500 [00:16<00:01, 145.67it/s]\u001b[A\n",
      " 93%|█████████▎| 2327/2500 [00:16<00:01, 148.30it/s]\u001b[A\n",
      " 94%|█████████▎| 2342/2500 [00:16<00:01, 146.45it/s]\u001b[A\n",
      " 94%|█████████▍| 2357/2500 [00:16<00:01, 140.65it/s]\u001b[A\n",
      " 95%|█████████▌| 2375/2500 [00:16<00:00, 148.73it/s]\u001b[A\n",
      " 96%|█████████▌| 2391/2500 [00:16<00:00, 144.16it/s]\u001b[A\n",
      " 96%|█████████▋| 2409/2500 [00:16<00:00, 151.67it/s]\u001b[A\n",
      " 97%|█████████▋| 2426/2500 [00:16<00:00, 156.72it/s]\u001b[A\n",
      " 98%|█████████▊| 2444/2500 [00:16<00:00, 160.98it/s]\u001b[A\n",
      " 98%|█████████▊| 2461/2500 [00:17<00:00, 159.00it/s]\u001b[A\n",
      " 99%|█████████▉| 2478/2500 [00:17<00:00, 158.00it/s]\u001b[A\n",
      "100%|█████████▉| 2495/2500 [00:17<00:00, 161.24it/s]\u001b[A\n",
      "100%|██████████| 2500/2500 [00:17<00:00, 144.08it/s]\u001b[A"
     ]
    },
    {
     "name": "stdout",
     "output_type": "stream",
     "text": [
      "Accuracy of the network on the 10000 test images: 53 %\n"
     ]
    }
   ],
   "source": [
    "correct = 0\n",
    "total = 0\n",
    "with torch.no_grad():\n",
    "    for data in tqdm(testloader):\n",
    "        images, labels = data\n",
    "        outputs = net(images)\n",
    "        _, predicted = torch.max(outputs.data, 1)\n",
    "        total += labels.size(0)\n",
    "        correct += (predicted == labels).sum().item()\n",
    "\n",
    "print('Accuracy of the network on the 10000 test images: %d %%' % (\n",
    "    100 * correct / total))"
   ]
  },
  {
   "cell_type": "markdown",
   "metadata": {},
   "source": [
    "## 찍는 거보단 잘했네요. (10%)\n",
    "\n",
    "## 어떤 class를 잘 학습했는지 볼까요."
   ]
  },
  {
   "cell_type": "code",
   "execution_count": 12,
   "metadata": {},
   "outputs": [
    {
     "name": "stdout",
     "output_type": "stream",
     "text": [
      "Accuracy of plane : 44 %\n",
      "Accuracy of   car : 79 %\n",
      "Accuracy of  bird : 55 %\n",
      "Accuracy of   cat : 45 %\n",
      "Accuracy of  deer : 42 %\n",
      "Accuracy of   dog : 25 %\n",
      "Accuracy of  frog : 64 %\n",
      "Accuracy of horse : 63 %\n",
      "Accuracy of  ship : 67 %\n",
      "Accuracy of truck : 50 %\n"
     ]
    }
   ],
   "source": [
    "class_correct = list(0. for i in range(10))\n",
    "class_total = list(0. for i in range(10))\n",
    "with torch.no_grad():\n",
    "    for data in testloader:\n",
    "        images, labels = data\n",
    "        outputs = net(images)\n",
    "        _, predicted = torch.max(outputs, 1)\n",
    "        c = (predicted == labels).squeeze()\n",
    "        for i in range(4):\n",
    "            label = labels[i]\n",
    "            class_correct[label] += c[i].item()\n",
    "            class_total[label] += 1\n",
    "\n",
    "\n",
    "for i in range(10):\n",
    "    print('Accuracy of %5s : %2d %%' % (\n",
    "        classes[i], 100 * class_correct[i] / class_total[i]))"
   ]
  },
  {
   "cell_type": "markdown",
   "metadata": {},
   "source": [
    "## 더 학습해볼까요?"
   ]
  },
  {
   "cell_type": "code",
   "execution_count": 13,
   "metadata": {},
   "outputs": [
    {
     "name": "stdout",
     "output_type": "stream",
     "text": [
      "[1,  2000] loss: 1.242\n",
      "[1,  4000] loss: 1.231\n",
      "[1,  6000] loss: 1.221\n",
      "[1,  8000] loss: 1.190\n",
      "[1, 10000] loss: 1.227\n",
      "[1, 12000] loss: 1.216\n",
      "Finished Training\n"
     ]
    }
   ],
   "source": [
    "for epoch in range(1):  # loop over the dataset multiple times\n",
    "\n",
    "    running_loss = 0.0\n",
    "    for i, data in enumerate(trainloader, 0):\n",
    "        # get the inputs\n",
    "        inputs, labels = data\n",
    "\n",
    "        # zero the parameter gradients\n",
    "        optimizer.zero_grad()\n",
    "\n",
    "        # forward + backward + optimize\n",
    "        outputs = net(inputs)\n",
    "        loss = criterion(outputs, labels)\n",
    "        loss.backward()\n",
    "        optimizer.step()\n",
    "\n",
    "        # print statistics\n",
    "        running_loss += loss.item()\n",
    "        if i % 2000 == 1999:    # print every 2000 mini-batches\n",
    "            print('[%d, %5d] loss: %.3f' %\n",
    "                  (epoch + 1, i + 1, running_loss / 2000))\n",
    "            running_loss = 0.0\n",
    "\n",
    "print('Finished Training')"
   ]
  },
  {
   "cell_type": "markdown",
   "metadata": {},
   "source": [
    "## 성능은?!"
   ]
  },
  {
   "cell_type": "code",
   "execution_count": 14,
   "metadata": {},
   "outputs": [
    {
     "name": "stdout",
     "output_type": "stream",
     "text": [
      "Accuracy of the network on the 10000 test images: 56 %\n"
     ]
    }
   ],
   "source": [
    "correct = 0\n",
    "total = 0\n",
    "with torch.no_grad():\n",
    "    for data in testloader:\n",
    "        images, labels = data\n",
    "        outputs = net(images)\n",
    "        _, predicted = torch.max(outputs.data, 1)\n",
    "        total += labels.size(0)\n",
    "        correct += (predicted == labels).sum().item()\n",
    "\n",
    "print('Accuracy of the network on the 10000 test images: %d %%' % (\n",
    "    100 * correct / total))"
   ]
  },
  {
   "cell_type": "markdown",
   "metadata": {},
   "source": [
    "# 내 모델 저장하기"
   ]
  },
  {
   "cell_type": "code",
   "execution_count": 15,
   "metadata": {},
   "outputs": [],
   "source": [
    "torch.save(net.state_dict(), 'my_cifar.pth') "
   ]
  },
  {
   "cell_type": "markdown",
   "metadata": {},
   "source": [
    "# 내 모델 다시 불러오기 :\n",
    "## 지금 jupyter session을 초기화 합시다. Esc 누르고 숫자 0 두번 연타, 하고 restart 클릭"
   ]
  },
  {
   "cell_type": "code",
   "execution_count": 1,
   "metadata": {},
   "outputs": [],
   "source": [
    "import torch\n",
    "import torchvision\n",
    "import torchvision.transforms as transforms\n",
    "from tqdm import tqdm"
   ]
  },
  {
   "cell_type": "code",
   "execution_count": 2,
   "metadata": {},
   "outputs": [],
   "source": [
    "checkpoint = torch.load('./my_cifar.pth', map_location=lambda storage, loc: storage)"
   ]
  },
  {
   "cell_type": "code",
   "execution_count": 3,
   "metadata": {},
   "outputs": [],
   "source": [
    "import torch.nn as nn\n",
    "import torch.nn.functional as F\n",
    "\n",
    "\n",
    "class Net(nn.Module):\n",
    "    def __init__(self):\n",
    "        super(Net, self).__init__()\n",
    "        self.conv1 = nn.Conv2d(3, 6, 5)\n",
    "        self.pool = nn.MaxPool2d(2, 2)\n",
    "        self.conv2 = nn.Conv2d(6, 16, 5)\n",
    "        self.fc1 = nn.Linear(16 * 5 * 5, 120)\n",
    "        self.fc2 = nn.Linear(120, 84)\n",
    "        self.fc3 = nn.Linear(84, 10)\n",
    "\n",
    "    def forward(self, x):\n",
    "        x = self.pool(F.relu(self.conv1(x)))\n",
    "        x = self.pool(F.relu(self.conv2(x)))\n",
    "        x = x.view(-1, 16 * 5 * 5)\n",
    "        x = F.relu(self.fc1(x))\n",
    "        x = F.relu(self.fc2(x))\n",
    "        x = self.fc3(x)\n",
    "        return x\n",
    "\n",
    "\n",
    "net = Net()\n",
    "\n",
    "\n",
    "net.load_state_dict(checkpoint)"
   ]
  },
  {
   "cell_type": "code",
   "execution_count": 4,
   "metadata": {},
   "outputs": [
    {
     "name": "stdout",
     "output_type": "stream",
     "text": [
      "Files already downloaded and verified\n"
     ]
    }
   ],
   "source": [
    "transform = transforms.Compose(\n",
    "    [transforms.ToTensor(),\n",
    "     transforms.Normalize(mean=[0.485, 0.456, 0.406],std=[0.229, 0.224, 0.225])])\n",
    "\n",
    "testset = torchvision.datasets.CIFAR10(root='./data', train=False,\n",
    "                                       download=True, transform=transform)\n",
    "testloader = torch.utils.data.DataLoader(testset, batch_size=4,\n",
    "                                         shuffle=False, num_workers=2)\n",
    "\n",
    "classes = ('plane', 'car', 'bird', 'cat',\n",
    "           'deer', 'dog', 'frog', 'horse', 'ship', 'truck')"
   ]
  },
  {
   "cell_type": "markdown",
   "metadata": {},
   "source": [
    "# 아까 성능 그대로 나와야겠죠?"
   ]
  },
  {
   "cell_type": "code",
   "execution_count": 5,
   "metadata": {},
   "outputs": [
    {
     "name": "stdout",
     "output_type": "stream",
     "text": [
      "Accuracy of the network on the 10000 test images: 56 %\n"
     ]
    }
   ],
   "source": [
    "net.eval()\n",
    "correct = 0\n",
    "total = 0\n",
    "with torch.no_grad():\n",
    "    for data in testloader:\n",
    "        images, labels = data\n",
    "        outputs = net(images)\n",
    "        _, predicted = torch.max(outputs.data, 1)\n",
    "        total += labels.size(0)\n",
    "        correct += (predicted == labels).sum().item()\n",
    "\n",
    "print('Accuracy of the network on the 10000 test images: %d %%' % (\n",
    "    100 * correct / total))"
   ]
  },
  {
   "cell_type": "markdown",
   "metadata": {},
   "source": [
    "# 이어서 학습하기\n",
    "\n",
    "## 유의점. net.train() 으로 train모드로 바꿔주기\n",
    "##  BatchNorm, Dropout 등의 특정 layer는 model.train() 과 model.eval() 모드에 따라 연산이 다름"
   ]
  },
  {
   "cell_type": "code",
   "execution_count": 6,
   "metadata": {},
   "outputs": [
    {
     "name": "stdout",
     "output_type": "stream",
     "text": [
      "Files already downloaded and verified\n",
      "[1,  2000] loss: 1.123\n",
      "[1,  4000] loss: 1.143\n",
      "[1,  6000] loss: 1.183\n",
      "[1,  8000] loss: 1.137\n",
      "[1, 10000] loss: 1.148\n",
      "[1, 12000] loss: 1.145\n",
      "Finished Training\n"
     ]
    }
   ],
   "source": [
    "trainset = torchvision.datasets.CIFAR10(root='./data', train=True,\n",
    "                                        download=True, transform=transform)\n",
    "trainloader = torch.utils.data.DataLoader(trainset, batch_size=4,\n",
    "                                          shuffle=True, num_workers=2)\n",
    "import torch.optim as optim\n",
    "\n",
    "criterion = nn.CrossEntropyLoss()\n",
    "optimizer = optim.SGD(net.parameters(), lr=0.001, momentum=0.9)\n",
    "\n",
    "net.train()\n",
    "\n",
    "for epoch in range(1):  # loop over the dataset multiple times\n",
    "\n",
    "    running_loss = 0.0\n",
    "    for i, data in enumerate(trainloader, 0):\n",
    "        # get the inputs\n",
    "        inputs, labels = data\n",
    "\n",
    "        # zero the parameter gradients\n",
    "        optimizer.zero_grad()\n",
    "\n",
    "        # forward + backward + optimize\n",
    "        outputs = net(inputs)\n",
    "        loss = criterion(outputs, labels)\n",
    "        loss.backward()\n",
    "        optimizer.step()\n",
    "\n",
    "        # print statistics\n",
    "        running_loss += loss.item()\n",
    "        if i % 2000 == 1999:    # print every 2000 mini-batches\n",
    "            print('[%d, %5d] loss: %.3f' %\n",
    "                  (epoch + 1, i + 1, running_loss / 2000))\n",
    "            running_loss = 0.0\n",
    "\n",
    "print('Finished Training')"
   ]
  },
  {
   "cell_type": "markdown",
   "metadata": {},
   "source": [
    "# 이어서 학습한 모델, 테스트해보기"
   ]
  },
  {
   "cell_type": "code",
   "execution_count": 7,
   "metadata": {},
   "outputs": [
    {
     "name": "stdout",
     "output_type": "stream",
     "text": [
      "Accuracy of the network on the 10000 test images: 58 %\n"
     ]
    }
   ],
   "source": [
    "net.eval()\n",
    "correct = 0\n",
    "total = 0\n",
    "with torch.no_grad():\n",
    "    for data in testloader:\n",
    "        images, labels = data\n",
    "        outputs = net(images)\n",
    "        _, predicted = torch.max(outputs.data, 1)\n",
    "        total += labels.size(0)\n",
    "        correct += (predicted == labels).sum().item()\n",
    "\n",
    "print('Accuracy of the network on the 10000 test images: %d %%' % (\n",
    "    100 * correct / total))"
   ]
  },
  {
   "cell_type": "markdown",
   "metadata": {},
   "source": [
    "# Pretrained 모델을 받아봅시다.\n",
    "\n",
    "저는 구글링해보니 https://github.com/akamaster/pytorch_resnet_cifar10 에서 pretrained모델을 제공한다길래 받아봅니다.\n",
    "우선 홈폴더에 ``git clone https://github.com/akamaster/pytorch_resnet_cifar10``\n",
    "\n",
    "그리고 `resnet.py` 파일과 `pretrained_models`를 지금 경로로 옮겨옵니다.\n",
    "\n",
    "# 유의할점.\n",
    "- 1. 같은 preprocess 를 거치는가? Image Normalization 등.\n",
    "- 2. model.eval() 할 것. BatchNorm, Dropout 등의 특정 layer는 model.train() 과 model.eval() 모드에 따라 연산이 다름"
   ]
  },
  {
   "cell_type": "code",
   "execution_count": null,
   "metadata": {},
   "outputs": [],
   "source": []
  },
  {
   "cell_type": "code",
   "execution_count": 8,
   "metadata": {},
   "outputs": [
    {
     "name": "stdout",
     "output_type": "stream",
     "text": [
      "Conv2d\n",
      "BatchNorm2d\n",
      "Conv2d\n",
      "BatchNorm2d\n",
      "Conv2d\n",
      "BatchNorm2d\n",
      "Sequential\n",
      "BasicBlock\n",
      "Conv2d\n",
      "BatchNorm2d\n",
      "Conv2d\n",
      "BatchNorm2d\n",
      "Sequential\n",
      "BasicBlock\n",
      "Conv2d\n",
      "BatchNorm2d\n",
      "Conv2d\n",
      "BatchNorm2d\n",
      "Sequential\n",
      "BasicBlock\n",
      "Sequential\n",
      "Conv2d\n",
      "BatchNorm2d\n",
      "Conv2d\n",
      "BatchNorm2d\n",
      "LambdaLayer\n",
      "BasicBlock\n",
      "Conv2d\n",
      "BatchNorm2d\n",
      "Conv2d\n",
      "BatchNorm2d\n",
      "Sequential\n",
      "BasicBlock\n",
      "Conv2d\n",
      "BatchNorm2d\n",
      "Conv2d\n",
      "BatchNorm2d\n",
      "Sequential\n",
      "BasicBlock\n",
      "Sequential\n",
      "Conv2d\n",
      "BatchNorm2d\n",
      "Conv2d\n",
      "BatchNorm2d\n",
      "LambdaLayer\n",
      "BasicBlock\n",
      "Conv2d\n",
      "BatchNorm2d\n",
      "Conv2d\n",
      "BatchNorm2d\n",
      "Sequential\n",
      "BasicBlock\n",
      "Conv2d\n",
      "BatchNorm2d\n",
      "Conv2d\n",
      "BatchNorm2d\n",
      "Sequential\n",
      "BasicBlock\n",
      "Sequential\n",
      "Linear\n",
      "ResNet\n"
     ]
    },
    {
     "name": "stderr",
     "output_type": "stream",
     "text": [
      "/home/jonhpark/workspace/fastcampus_dl_gpu/day4/resnet.py:43: UserWarning: nn.init.kaiming_normal is now deprecated in favor of nn.init.kaiming_normal_.\n",
      "  init.kaiming_normal(m.weight)\n"
     ]
    }
   ],
   "source": [
    "import resnet\n",
    "resnet20 = torch.nn.DataParallel(resnet.resnet20())"
   ]
  },
  {
   "cell_type": "code",
   "execution_count": 9,
   "metadata": {},
   "outputs": [],
   "source": [
    "# resnet20 = torch.load('./resnet20.th') ## GPU 일때\n",
    "checkpoint = torch.load('./pretrained_models/resnet20.th', map_location=lambda storage, loc: storage) ## CPU 일때\n",
    "resnet20.load_state_dict(checkpoint['state_dict'])"
   ]
  },
  {
   "cell_type": "markdown",
   "metadata": {},
   "source": [
    "# resnet20 pretrained 모델로 테스트를 돌려봅시다."
   ]
  },
  {
   "cell_type": "code",
   "execution_count": 10,
   "metadata": {},
   "outputs": [
    {
     "name": "stderr",
     "output_type": "stream",
     "text": [
      "100%|██████████| 2500/2500 [01:41<00:00, 24.60it/s]"
     ]
    },
    {
     "name": "stdout",
     "output_type": "stream",
     "text": [
      "Accuracy of the network on the 10000 test images: 91 %\n"
     ]
    },
    {
     "name": "stderr",
     "output_type": "stream",
     "text": [
      "\n"
     ]
    }
   ],
   "source": [
    "from tqdm import tqdm\n",
    "resnet20.eval()\n",
    "correct = 0\n",
    "total = 0\n",
    "with torch.no_grad():\n",
    "    for data in tqdm(testloader):\n",
    "        # print(i)\n",
    "        images, labels = data\n",
    "        outputs = resnet20(images)\n",
    "        _, predicted = torch.max(outputs.data, 1)\n",
    "        total += labels.size(0)\n",
    "        correct += (predicted == labels).sum().item()\n",
    "\n",
    "print('Accuracy of the network on the 10000 test images: %d %%' % (\n",
    "    100 * correct / total))"
   ]
  },
  {
   "cell_type": "code",
   "execution_count": null,
   "metadata": {},
   "outputs": [],
   "source": []
  }
 ],
 "metadata": {
  "kernelspec": {
   "display_name": "Python 3",
   "language": "python",
   "name": "python3"
  },
  "language_info": {
   "codemirror_mode": {
    "name": "ipython",
    "version": 3
   },
   "file_extension": ".py",
   "mimetype": "text/x-python",
   "name": "python",
   "nbconvert_exporter": "python",
   "pygments_lexer": "ipython3",
   "version": "3.6.7"
  }
 },
 "nbformat": 4,
 "nbformat_minor": 1
}
