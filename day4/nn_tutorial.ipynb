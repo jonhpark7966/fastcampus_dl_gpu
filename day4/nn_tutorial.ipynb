{
 "cells": [
  {
   "cell_type": "code",
   "execution_count": 1,
   "metadata": {},
   "outputs": [],
   "source": [
    "# conda install torch, matplotlib\n",
    "\n",
    "%matplotlib inline"
   ]
  },
  {
   "cell_type": "markdown",
   "metadata": {},
   "source": [
    "\n",
    "Neural Networks\n",
    "===============\n",
    "\n",
    "(https://pytorch.org/tutorials/beginner/deep_learning_60min_blitz.html) 참고\n",
    "\n",
    "뉴럴네트워크는 ``torch.nn`` 패키지로 선언된다.\n",
    "\n",
    "``nn.Module`` 은 layer를 가지고 있으며 ``forward(input)`` 메소드를 사용하여 layer를 통과시키고  ``output``을 출력한다.\n",
    "\n",
    "아래는 간단한 feed-forward network 이다. \n",
    "입력을 받고 여러 layer를 통과하여 feature로 변하고, 마지막에 class output을 출력한다.\n",
    "\n",
    "보통의 뉴럴네트워크의 학습은 다음을 이루어진다.:\n",
    "\n",
    "- 학습할 수 있는 parameters (weight)를 가지고 있는 뉴럴 네트워크를 define(선언)한다.\n",
    "- 데이터셋을 입력으로 구성한다. 데이터셋의 모든 데이터를 iterate한다.\n",
    "- 데이터를 뉴럴네트워크에 넣기 위해 preprocess를 한다. (Normalization 등)\n",
    "- 데이터를 뉴럴네트워크에 통과시키고 출력을 받는다.\n",
    "- 출력을 바탕으로 loss functnion (손실 함수)를 통해 loss를 계산한다.\n",
    "  - 얼마나 출력이 실제 결과에서 거리가 먼지\n",
    "- gradient를 네트워크에 back propagation시킨다.\n",
    "- 네트워크의 parameter를 gradient에 의해 업데이트 한다.\n",
    "  - ``weight = weight - learning_rate * gradient``\n",
    "\n",
    "네트워크 모델 선언하기\n",
    "------------------"
   ]
  },
  {
   "cell_type": "code",
   "execution_count": 2,
   "metadata": {},
   "outputs": [
    {
     "name": "stdout",
     "output_type": "stream",
     "text": [
      "Net(\n",
      "  (conv1): Conv2d(1, 6, kernel_size=(5, 5), stride=(1, 1))\n",
      "  (conv2): Conv2d(6, 16, kernel_size=(5, 5), stride=(1, 1))\n",
      "  (fc1): Linear(in_features=400, out_features=120, bias=True)\n",
      "  (fc2): Linear(in_features=120, out_features=84, bias=True)\n",
      "  (fc3): Linear(in_features=84, out_features=10, bias=True)\n",
      ")\n"
     ]
    }
   ],
   "source": [
    "import torch\n",
    "import torch.nn as nn\n",
    "import torch.nn.functional as F\n",
    "\n",
    "\n",
    "class Net(nn.Module):\n",
    "\n",
    "    def __init__(self):\n",
    "        super(Net, self).__init__()\n",
    "        # 1 input image channel, 6 output channels, 5x5 square convolution\n",
    "        # kernel\n",
    "        self.conv1 = nn.Conv2d(1, 6, 5)\n",
    "        self.conv2 = nn.Conv2d(6, 16, 5)\n",
    "        # an affine operation: y = Wx + b\n",
    "        self.fc1 = nn.Linear(16 * 5 * 5, 120)\n",
    "        self.fc2 = nn.Linear(120, 84)\n",
    "        self.fc3 = nn.Linear(84, 10)\n",
    "\n",
    "    def forward(self, x):\n",
    "        # Max pooling over a (2, 2) window\n",
    "        x = F.max_pool2d(F.relu(self.conv1(x)), (2, 2))\n",
    "        # If the size is a square you can only specify a single number\n",
    "        x = F.max_pool2d(F.relu(self.conv2(x)), 2)\n",
    "        x = x.view(-1, self.num_flat_features(x))\n",
    "        x = F.relu(self.fc1(x))\n",
    "        x = F.relu(self.fc2(x))\n",
    "        x = self.fc3(x)\n",
    "        return x\n",
    "\n",
    "    def num_flat_features(self, x):\n",
    "        size = x.size()[1:]  # all dimensions except the batch dimension\n",
    "        num_features = 1\n",
    "        for s in size:\n",
    "            num_features *= s\n",
    "        return num_features\n",
    "\n",
    "\n",
    "net = Net()\n",
    "print(net)"
   ]
  },
  {
   "cell_type": "markdown",
   "metadata": {},
   "source": [
    "# forward() \n",
    "\n",
    "``forward`` function만 선언하면 ``backward`` function (gradients가 계산되는)은 ``autograd``를 통해 자동으로 선언됩니다.\n",
    "과거에는 ``backward``도 일일히 구현해주어야 해서, 디버깅할게 더 많았었습니다.\n",
    "\n",
    "모델에서 학습가능한 parameter들은 ``net.parameters()``로 볼수 있습니다."
   ]
  },
  {
   "cell_type": "code",
   "execution_count": 3,
   "metadata": {},
   "outputs": [
    {
     "name": "stdout",
     "output_type": "stream",
     "text": [
      "torch.Size([16, 6, 5, 5])\n"
     ]
    }
   ],
   "source": [
    "params = list(net.parameters())\n",
    "print(params[2].size())  # conv1's .weight"
   ]
  },
  {
   "cell_type": "markdown",
   "metadata": {},
   "source": [
    "# 랜덤 32x32 input 를 통과시켜봅시다.\n",
    "\n",
    "위에서 선언한 Net은 32x32 이미지 입력을 받는 네트워크입니다.\n",
    "\n",
    "어떤 이미지(예를들어 MNIST)를 위의 Net에 통과시키고 싶으면 32x32으로 resize해야합니다."
   ]
  },
  {
   "cell_type": "code",
   "execution_count": 4,
   "metadata": {},
   "outputs": [
    {
     "name": "stdout",
     "output_type": "stream",
     "text": [
      "tensor([[-0.0627, -0.1090, -0.0097, -0.0920, -0.0346,  0.1949, -0.0405, -0.1113,\n",
      "          0.0527, -0.0832]], grad_fn=<AddmmBackward>)\n"
     ]
    }
   ],
   "source": [
    "input = torch.randn(1, 1, 32, 32)\n",
    "out = net(input)\n",
    "print(out)"
   ]
  },
  {
   "cell_type": "markdown",
   "metadata": {},
   "source": [
    "## 네트워크에 gradient들을 초기화시키고, "
   ]
  },
  {
   "cell_type": "code",
   "execution_count": 5,
   "metadata": {},
   "outputs": [
    {
     "name": "stdout",
     "output_type": "stream",
     "text": [
      "None\n"
     ]
    }
   ],
   "source": [
    "net.zero_grad()\n",
    "print(net.fc1.weight.grad)"
   ]
  },
  {
   "cell_type": "markdown",
   "metadata": {},
   "source": [
    "## 임의의 output의 gradient를 back propagation 해줍니다."
   ]
  },
  {
   "cell_type": "code",
   "execution_count": 6,
   "metadata": {},
   "outputs": [
    {
     "name": "stdout",
     "output_type": "stream",
     "text": [
      "tensor([[ 0.0000,  0.0000,  0.0000,  ...,  0.0000,  0.0000,  0.0000],\n",
      "        [-0.0375, -0.0284, -0.0636,  ..., -0.0338, -0.0380, -0.0463],\n",
      "        [ 0.0000,  0.0000,  0.0000,  ...,  0.0000,  0.0000,  0.0000],\n",
      "        ...,\n",
      "        [ 0.0348,  0.0263,  0.0589,  ...,  0.0313,  0.0352,  0.0429],\n",
      "        [ 0.0543,  0.0411,  0.0920,  ...,  0.0489,  0.0550,  0.0670],\n",
      "        [ 0.0000,  0.0000,  0.0000,  ...,  0.0000,  0.0000,  0.0000]])\n"
     ]
    }
   ],
   "source": [
    "out.backward(torch.randn(1, 10))\n",
    "print(net.fc1.weight.grad)"
   ]
  },
  {
   "cell_type": "markdown",
   "metadata": {},
   "source": [
    "## 실제 학습하는 상황을 묘사합시다. \n",
    "\n",
    "input을 네트워크에 통과시키서 나온 output을\n",
    "\n",
    "데이터 target에 맞도록 학습합시다."
   ]
  },
  {
   "cell_type": "code",
   "execution_count": 7,
   "metadata": {},
   "outputs": [
    {
     "name": "stdout",
     "output_type": "stream",
     "text": [
      "tensor([[-0.0627, -0.1090, -0.0097, -0.0920, -0.0346,  0.1949, -0.0405, -0.1113,\n",
      "          0.0527, -0.0832]], grad_fn=<AddmmBackward>)\n",
      "tensor([[1., 0., 0., 0., 0., 0., 0., 0., 0., 0.]])\n"
     ]
    }
   ],
   "source": [
    "output = net(input)\n",
    "target = torch.tensor([1,0,0,0,0,0,0,0,0,0]).float()\n",
    "target = target.view(1, -1)  # make it the same shape as output\n",
    "print(output)\n",
    "print(target)"
   ]
  },
  {
   "cell_type": "markdown",
   "metadata": {},
   "source": [
    "## MSE loss (L2 loss)를 loss function으로 사용합시다."
   ]
  },
  {
   "cell_type": "code",
   "execution_count": 8,
   "metadata": {},
   "outputs": [
    {
     "name": "stdout",
     "output_type": "stream",
     "text": [
      "tensor(0.1213, grad_fn=<MseLossBackward>)\n"
     ]
    }
   ],
   "source": [
    "criterion = nn.MSELoss()\n",
    "\n",
    "loss = criterion(output, target)\n",
    "print(loss)"
   ]
  },
  {
   "cell_type": "markdown",
   "metadata": {},
   "source": [
    "## 이제 이 loss를 사용하여 네트워크를 학습해보고, 다시 한번 input을 통과시켜 학습이 반영되는지 봅시다. "
   ]
  },
  {
   "cell_type": "markdown",
   "metadata": {},
   "source": [
    "Backprop (Back Propagation, 에러 역전파)\n",
    "--------\n",
    "loss (error)를 역전파하기 위해 필요한건  ``loss.backward()`` 뿐입니다.\n",
    "Backprop을 하기전에 ``net.zero_grad()`` 을 통해 네트워크 parameter들의 gradient를 0으로 해주어야, gradient가 누적되지 않습니다.\n",
    "\n",
    "\n",
    "``loss.backward()`` 해보고, conv1의 bias값이 어떻게 되나 봅시다."
   ]
  },
  {
   "cell_type": "code",
   "execution_count": 9,
   "metadata": {},
   "outputs": [
    {
     "name": "stdout",
     "output_type": "stream",
     "text": [
      "conv1.bias.grad before backward\n",
      "tensor([0., 0., 0., 0., 0., 0.])\n",
      "conv1.bias.grad after backward\n",
      "tensor([ 0.0055, -0.0027, -0.0002,  0.0073, -0.0064,  0.0093])\n"
     ]
    }
   ],
   "source": [
    "net.zero_grad()     # zeroes the gradient buffers of all parameters\n",
    "\n",
    "print('conv1.bias.grad before backward')\n",
    "print(net.conv1.bias.grad)\n",
    "\n",
    "loss.backward()\n",
    "\n",
    "print('conv1.bias.grad after backward')\n",
    "print(net.conv1.bias.grad)"
   ]
  },
  {
   "cell_type": "markdown",
   "metadata": {},
   "source": [
    "네트워크 parameter (weight) 업데이트하기\n",
    "------------------\n",
    "가장 간단한 업데이트 룰은 SGD, Stochastic Gradient Descent 입니다:\n",
    "\n",
    "``weight = weight - learning_rate * gradient``\n",
    "\n",
    "이는 다음으로 구현 가능합니다:\n",
    "\n",
    ".. code:: python\n",
    "\n",
    "    learning_rate = 0.01\n",
    "    for f in net.parameters():\n",
    "        f.data.sub_(f.grad.data * learning_rate)\n",
    "\n",
    "\n",
    "다른 업데이트룰 SGD, Nesterov-SGD, Adam, RMSProp, 등은 ``torch.optim``통해서 쉽게 사용하실 수 있습니다."
   ]
  },
  {
   "cell_type": "code",
   "execution_count": 10,
   "metadata": {},
   "outputs": [],
   "source": [
    "import torch.optim as optim\n",
    "\n",
    "# create your optimizer\n",
    "optimizer = optim.SGD(net.parameters(), lr=0.01)\n",
    "\n",
    "# in your training loop:\n",
    "optimizer.zero_grad()   # zero the gradient buffers\n",
    "output = net(input)\n",
    "loss = criterion(output, target)\n",
    "loss.backward()\n",
    "optimizer.step()    # Does the update"
   ]
  },
  {
   "cell_type": "code",
   "execution_count": 11,
   "metadata": {},
   "outputs": [
    {
     "name": "stdout",
     "output_type": "stream",
     "text": [
      "tensor([[-0.0494, -0.1062, -0.0120, -0.0909, -0.0349,  0.1895, -0.0398, -0.1096,\n",
      "          0.0525, -0.0809]], grad_fn=<AddmmBackward>)\n",
      "tensor([[1., 0., 0., 0., 0., 0., 0., 0., 0., 0.]])\n"
     ]
    }
   ],
   "source": [
    "output = net(input)\n",
    "print(output)\n",
    "print(target)"
   ]
  },
  {
   "cell_type": "markdown",
   "metadata": {},
   "source": [
    "## 한번더!"
   ]
  },
  {
   "cell_type": "code",
   "execution_count": 12,
   "metadata": {},
   "outputs": [],
   "source": [
    "# in your training loop:\n",
    "optimizer.zero_grad()   # zero the gradient buffers\n",
    "output = net(input)\n",
    "loss = criterion(output, target)\n",
    "loss.backward()\n",
    "optimizer.step()    # Does the update"
   ]
  },
  {
   "cell_type": "code",
   "execution_count": 13,
   "metadata": {
    "scrolled": true
   },
   "outputs": [
    {
     "name": "stdout",
     "output_type": "stream",
     "text": [
      "tensor([[-0.0367, -0.1037, -0.0134, -0.0899, -0.0357,  0.1848, -0.0396, -0.1085,\n",
      "          0.0530, -0.0786]], grad_fn=<AddmmBackward>)\n",
      "tensor([[1., 0., 0., 0., 0., 0., 0., 0., 0., 0.]])\n"
     ]
    }
   ],
   "source": [
    "output = net(input)\n",
    "print(output)\n",
    "print(target)"
   ]
  },
  {
   "cell_type": "markdown",
   "metadata": {},
   "source": [
    "## output이 점점 target에 가까워지는 것을 볼 수 있습니다!\n",
    "\n",
    "이 작업, 즉 전체 데이터셋 (`입력`, `타겟` 값)에서 `네트워크(입력)`인 `출력`을 `타겟`에 맞추는 것을 수없이 반복하는 것이 **학습** 입니다.\n",
    "\n",
    "방금 작업을 10번 반복해보면... "
   ]
  },
  {
   "cell_type": "code",
   "execution_count": 14,
   "metadata": {},
   "outputs": [
    {
     "name": "stdout",
     "output_type": "stream",
     "text": [
      "tensor([[-0.0367, -0.1037, -0.0134, -0.0899, -0.0357,  0.1848, -0.0396, -0.1085,\n",
      "          0.0530, -0.0786]], grad_fn=<AddmmBackward>)\n",
      "tensor([[-0.0247, -0.1013, -0.0142, -0.0888, -0.0366,  0.1809, -0.0395, -0.1078,\n",
      "          0.0531, -0.0771]], grad_fn=<AddmmBackward>)\n",
      "tensor([[-0.0127, -0.0991, -0.0152, -0.0879, -0.0376,  0.1774, -0.0396, -0.1071,\n",
      "          0.0534, -0.0759]], grad_fn=<AddmmBackward>)\n",
      "tensor([[-0.0002, -0.0975, -0.0167, -0.0870, -0.0385,  0.1741, -0.0399, -0.1062,\n",
      "          0.0536, -0.0744]], grad_fn=<AddmmBackward>)\n",
      "tensor([[ 0.0120, -0.0961, -0.0182, -0.0861, -0.0395,  0.1710, -0.0403, -0.1053,\n",
      "          0.0538, -0.0729]], grad_fn=<AddmmBackward>)\n",
      "tensor([[ 0.0234, -0.0952, -0.0200, -0.0850, -0.0400,  0.1682, -0.0402, -0.1039,\n",
      "          0.0535, -0.0715]], grad_fn=<AddmmBackward>)\n",
      "tensor([[ 0.0341, -0.0944, -0.0219, -0.0842, -0.0406,  0.1656, -0.0399, -0.1021,\n",
      "          0.0535, -0.0705]], grad_fn=<AddmmBackward>)\n",
      "tensor([[ 0.0447, -0.0936, -0.0239, -0.0836, -0.0410,  0.1629, -0.0396, -0.1003,\n",
      "          0.0534, -0.0696]], grad_fn=<AddmmBackward>)\n",
      "tensor([[ 0.0548, -0.0926, -0.0256, -0.0831, -0.0414,  0.1607, -0.0394, -0.0987,\n",
      "          0.0531, -0.0689]], grad_fn=<AddmmBackward>)\n",
      "tensor([[ 0.0645, -0.0913, -0.0271, -0.0826, -0.0417,  0.1587, -0.0391, -0.0969,\n",
      "          0.0529, -0.0682]], grad_fn=<AddmmBackward>)\n"
     ]
    }
   ],
   "source": [
    "for i in range(10):\n",
    "    # in your training loop:\n",
    "    optimizer.zero_grad()   # zero the gradient buffers\n",
    "    output = net(input)\n",
    "    print(output)    \n",
    "    loss = criterion(output, target)\n",
    "    loss.backward()\n",
    "    optimizer.step()    # Does the update"
   ]
  },
  {
   "cell_type": "markdown",
   "metadata": {},
   "source": [
    "# 방금 선언한 네트워크로 MNIST를 학습해 봅시다!"
   ]
  },
  {
   "cell_type": "code",
   "execution_count": 15,
   "metadata": {},
   "outputs": [],
   "source": [
    "import torch\n",
    "import torchvision\n",
    "import torchvision.transforms as transforms\n",
    "transform = transforms.Compose(\n",
    "    [transforms.ToTensor(),\n",
    "     transforms.Normalize((0.1307,), (0.3081,))])\n",
    "\n",
    "\n",
    "trainset = torchvision.datasets.MNIST(root='./data', train=True,\n",
    "                                        download=True, transform=transform)\n",
    "trainloader = torch.utils.data.DataLoader(trainset, batch_size=4,\n",
    "                                          shuffle=True, num_workers=2)\n",
    "\n",
    "testset = torchvision.datasets.MNIST(root='./data', train=False,\n",
    "                                       download=True, transform=transform)\n",
    "testloader = torch.utils.data.DataLoader(testset, batch_size=4,\n",
    "                                         shuffle=False, num_workers=2)\n"
   ]
  },
  {
   "cell_type": "markdown",
   "metadata": {},
   "source": [
    "# Dataset을 열어봅시다"
   ]
  },
  {
   "cell_type": "code",
   "execution_count": 16,
   "metadata": {},
   "outputs": [
    {
     "data": {
      "image/png": "[encoded data removed]",
      "text/plain": [
       "<Figure size 432x288 with 1 Axes>"
      ]
     },
     "metadata": {
      "needs_background": "light"
     },
     "output_type": "display_data"
    },
    {
     "name": "stdout",
     "output_type": "stream",
     "text": [
      "5\n"
     ]
    }
   ],
   "source": [
    "import matplotlib.pyplot as plt\n",
    "i = 100\n",
    "image = trainset[i][0]\n",
    "label = trainset[i][1]\n",
    "\n",
    "image.shape\n",
    "\n",
    "# Sanity check to see an example and print its label.\n",
    "example_im = image[0,:,:]\n",
    "plt.imshow(example_im, cmap='gray')\n",
    "plt.show()\n",
    "\n",
    "print(label)"
   ]
  },
  {
   "cell_type": "markdown",
   "metadata": {},
   "source": [
    "## 지금 성능은? .. 학습전이니까 당연히 낮아야겠죠? 약 10%로"
   ]
  },
  {
   "cell_type": "code",
   "execution_count": 17,
   "metadata": {},
   "outputs": [
    {
     "name": "stderr",
     "output_type": "stream",
     "text": [
      "/home/jonhpark/.local/lib/python3.6/site-packages/torch/nn/functional.py:2351: UserWarning: nn.functional.upsample is deprecated. Use nn.functional.interpolate instead.\n",
      "  warnings.warn(\"nn.functional.upsample is deprecated. Use nn.functional.interpolate instead.\")\n",
      "/home/jonhpark/.local/lib/python3.6/site-packages/torch/nn/functional.py:2423: UserWarning: Default upsampling behavior when mode=bilinear is changed to align_corners=False since 0.4.0. Please specify align_corners=True if the old behavior is desired. See the documentation of nn.Upsample for details.\n",
      "  \"See the documentation of nn.Upsample for details.\".format(mode))\n"
     ]
    },
    {
     "name": "stdout",
     "output_type": "stream",
     "text": [
      "Performance: 8.92\n"
     ]
    }
   ],
   "source": [
    "net.eval()\n",
    "num_correct = 0\n",
    "with torch.no_grad():\n",
    "    for data, target in testset:\n",
    "        data = data.reshape(1,1,28,28)\n",
    "        data = F.upsample(data, (32,32), mode='bilinear')\n",
    "        output = net(data)\n",
    "        _, output = torch.max(output, dim=1)\n",
    "        num_correct += torch.sum(output == target)\n",
    "print('Performance:', num_correct.item()/len(testset) * 100)        "
   ]
  },
  {
   "cell_type": "markdown",
   "metadata": {},
   "source": [
    "# Train 해봅시다!"
   ]
  },
  {
   "cell_type": "code",
   "execution_count": 22,
   "metadata": {},
   "outputs": [
    {
     "name": "stdout",
     "output_type": "stream",
     "text": [
      "Train Step: 0\tLoss: 2.301\n",
      "Train Step: 1000\tLoss: 0.058\n",
      "Train Step: 2000\tLoss: 0.020\n",
      "Train Step: 3000\tLoss: 0.229\n",
      "Train Step: 4000\tLoss: 0.004\n",
      "Train Step: 5000\tLoss: 0.033\n",
      "Train Step: 6000\tLoss: 1.033\n",
      "Train Step: 7000\tLoss: 0.013\n",
      "Train Step: 8000\tLoss: 0.000\n",
      "Train Step: 9000\tLoss: 1.270\n",
      "Train Step: 10000\tLoss: 0.003\n",
      "Train Step: 11000\tLoss: 0.037\n",
      "Train Step: 12000\tLoss: 0.000\n",
      "Train Step: 13000\tLoss: 0.001\n",
      "Train Step: 14000\tLoss: 0.003\n"
     ]
    }
   ],
   "source": [
    "criterion = nn.CrossEntropyLoss()\n",
    "optimizer = optim.SGD(net.parameters(), lr=0.001, momentum=0.9)\n",
    "\n",
    "net.train()\n",
    "\n",
    "train_loss = []\n",
    "train_accu = []\n",
    "i = 0\n",
    "\n",
    "for data, target in trainloader:\n",
    "    data = F.upsample(data, (32,32), mode='bilinear')\n",
    "    target_ = target.clone()\n",
    "\n",
    "\n",
    "    optimizer.zero_grad()\n",
    "    output = net(data)\n",
    "    loss = criterion(output, target)\n",
    "    loss.backward()    # calc gradients\n",
    "    train_loss.append(loss.data)\n",
    "    optimizer.step()   # update gradients\n",
    "\n",
    "\n",
    "    if i % 1000 == 0:\n",
    "        print('Train Step: {}\\tLoss: {:.3f}'.format(i, loss.data))\n",
    "    i += 1"
   ]
  },
  {
   "cell_type": "code",
   "execution_count": 23,
   "metadata": {
    "scrolled": true
   },
   "outputs": [
    {
     "data": {
      "text/plain": [
       "[<matplotlib.lines.Line2D at 0x7f08e9682c18>]"
      ]
     },
     "execution_count": 23,
     "metadata": {},
     "output_type": "execute_result"
    },
    {
     "data": {
      "image/png": "[encoded data removed]",
      "text/plain": [
       "<Figure size 432x288 with 1 Axes>"
      ]
     },
     "metadata": {
      "needs_background": "light"
     },
     "output_type": "display_data"
    }
   ],
   "source": [
    "plt.plot(train_loss)"
   ]
  },
  {
   "cell_type": "markdown",
   "metadata": {},
   "source": [
    "# Test 해봅시다!\n",
    "## 일단 이미지 한개만 테스트"
   ]
  },
  {
   "cell_type": "code",
   "execution_count": 24,
   "metadata": {},
   "outputs": [
    {
     "data": {
      "image/png": "[encoded data removed]",
      "text/plain": [
       "<Figure size 432x288 with 1 Axes>"
      ]
     },
     "metadata": {
      "needs_background": "light"
     },
     "output_type": "display_data"
    },
    {
     "name": "stdout",
     "output_type": "stream",
     "text": [
      "7\n"
     ]
    }
   ],
   "source": [
    "j = 0\n",
    "test_image = testset[j][0]\n",
    "label = testset[j][1]\n",
    "\n",
    "# Sanity check to see an example and print its label.\n",
    "example_im = test_image[0,:,:]\n",
    "plt.imshow(example_im, cmap='gray')\n",
    "plt.show()\n",
    "\n",
    "print(label)"
   ]
  },
  {
   "cell_type": "code",
   "execution_count": 25,
   "metadata": {},
   "outputs": [
    {
     "name": "stdout",
     "output_type": "stream",
     "text": [
      "torch.Size([1, 28, 28])\n",
      "torch.Size([1, 1, 28, 28])\n"
     ]
    }
   ],
   "source": [
    "print(test_image.shape)\n",
    "\n",
    "# net only accept 4D tensor\n",
    "test_image = test_image.reshape(1,1,28,28)\n",
    "print(test_image.shape)"
   ]
  },
  {
   "cell_type": "code",
   "execution_count": 26,
   "metadata": {},
   "outputs": [
    {
     "name": "stdout",
     "output_type": "stream",
     "text": [
      "prediction is tensor([7])\n"
     ]
    }
   ],
   "source": [
    "test_image = F.upsample(test_image, (32,32), mode='bilinear')\n",
    "output = net(test_image)\n",
    "prediction = output.data.max(1)[1]\n",
    "print('prediction is', prediction)"
   ]
  },
  {
   "cell_type": "markdown",
   "metadata": {},
   "source": [
    "# 전체 Testset에 해봅시다."
   ]
  },
  {
   "cell_type": "code",
   "execution_count": 27,
   "metadata": {
    "scrolled": false
   },
   "outputs": [
    {
     "name": "stdout",
     "output_type": "stream",
     "text": [
      "Performance: 98.34\n"
     ]
    }
   ],
   "source": [
    "wrong = []\n",
    "\n",
    "net.eval()\n",
    "num_correct = 0\n",
    "with torch.no_grad():\n",
    "    for data, target in testset:\n",
    "        data = data.reshape(1,1,28,28)\n",
    "        data = F.upsample(data, (32,32), mode='bilinear')\n",
    "        output = net(data)\n",
    "        _, output = torch.max(output, dim=1)\n",
    "        if torch.sum(output == target):\n",
    "            num_correct += 1\n",
    "        else:\n",
    "            wrong.append((data,target,output))\n",
    "            \n",
    "print('Performance:', num_correct/len(testset) * 100)        "
   ]
  },
  {
   "cell_type": "markdown",
   "metadata": {},
   "source": [
    "# 뭘 틀렸을까요?"
   ]
  },
  {
   "cell_type": "code",
   "execution_count": 28,
   "metadata": {},
   "outputs": [
    {
     "name": "stdout",
     "output_type": "stream",
     "text": [
      "166\n"
     ]
    }
   ],
   "source": [
    "print(len(wrong))"
   ]
  },
  {
   "cell_type": "code",
   "execution_count": 29,
   "metadata": {},
   "outputs": [
    {
     "data": {
      "image/png": "[encoded data removed]",
      "text/plain": [
       "<Figure size 432x288 with 1 Axes>"
      ]
     },
     "metadata": {
      "needs_background": "light"
     },
     "output_type": "display_data"
    }
   ],
   "source": [
    "i = 11\n",
    "\n",
    "\n",
    "# Sanity check to see an example and print its label.\n",
    "example_im = wrong[i][0][0,0,:,:]\n",
    "plt.imshow(example_im, cmap='gray')\n",
    "plt.show()"
   ]
  },
  {
   "cell_type": "code",
   "execution_count": 30,
   "metadata": {},
   "outputs": [
    {
     "name": "stdout",
     "output_type": "stream",
     "text": [
      "label: 5 output: tensor([3])\n"
     ]
    }
   ],
   "source": [
    "print('label:',wrong[i][1], 'output:',wrong[i][2])"
   ]
  },
  {
   "cell_type": "code",
   "execution_count": 31,
   "metadata": {},
   "outputs": [
    {
     "data": {
      "image/png": "[encoded data removed]",
      "text/plain": [
       "<Figure size 432x288 with 1 Axes>"
      ]
     },
     "metadata": {
      "needs_background": "light"
     },
     "output_type": "display_data"
    },
    {
     "name": "stdout",
     "output_type": "stream",
     "text": [
      "5\n"
     ]
    }
   ],
   "source": [
    "i = 100\n",
    "image = trainset[i][0]\n",
    "label = trainset[i][1]\n",
    "\n",
    "image.shape\n",
    "\n",
    "# Sanity check to see an example and print its label.\n",
    "example_im = image[0,:,:]\n",
    "plt.imshow(example_im, cmap='gray')\n",
    "plt.show()\n",
    "\n",
    "print(label)"
   ]
  },
  {
   "cell_type": "code",
   "execution_count": null,
   "metadata": {},
   "outputs": [],
   "source": []
  }
 ],
 "metadata": {
  "kernelspec": {
   "display_name": "Python 3",
   "language": "python",
   "name": "python3"
  },
  "language_info": {
   "codemirror_mode": {
    "name": "ipython",
    "version": 3
   },
   "file_extension": ".py",
   "mimetype": "text/x-python",
   "name": "python",
   "nbconvert_exporter": "python",
   "pygments_lexer": "ipython3",
   "version": "3.6.7"
  }
 },
 "nbformat": 4,
 "nbformat_minor": 1
}
